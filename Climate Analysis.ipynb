{
    "cells": [
        {
            "cell_type": "markdown",
            "metadata": {},
            "source": "# Description\nThis notebook is an analysis of 80 years of Climate history of Canada."
        },
        {
            "cell_type": "code",
            "execution_count": 1,
            "metadata": {
                "scrolled": true
            },
            "outputs": [
                {
                    "data": {
                        "text/html": "<div>\n<style scoped>\n    .dataframe tbody tr th:only-of-type {\n        vertical-align: middle;\n    }\n\n    .dataframe tbody tr th {\n        vertical-align: top;\n    }\n\n    .dataframe thead th {\n        text-align: right;\n    }\n</style>\n<table border=\"1\" class=\"dataframe\">\n  <thead>\n    <tr style=\"text-align: right;\">\n      <th></th>\n      <th>LOCAL_DATE</th>\n      <th>MEAN_TEMPERATURE_CALGARY</th>\n      <th>TOTAL_PRECIPITATION_CALGARY</th>\n      <th>MEAN_TEMPERATURE_EDMONTON</th>\n      <th>TOTAL_PRECIPITATION_EDMONTON</th>\n      <th>MEAN_TEMPERATURE_HALIFAX</th>\n      <th>TOTAL_PRECIPITATION_HALIFAX</th>\n      <th>MEAN_TEMPERATURE_MONCTON</th>\n      <th>TOTAL_PRECIPITATION_MONCTON</th>\n      <th>MEAN_TEMPERATURE_MONTREAL</th>\n      <th>...</th>\n      <th>MEAN_TEMPERATURE_STJOHNS</th>\n      <th>TOTAL_PRECIPITATION_STJOHNS</th>\n      <th>MEAN_TEMPERATURE_TORONTO</th>\n      <th>TOTAL_PRECIPITATION_TORONTO</th>\n      <th>MEAN_TEMPERATURE_VANCOUVER</th>\n      <th>TOTAL_PRECIPITATION_VANCOUVER</th>\n      <th>MEAN_TEMPERATURE_WHITEHORSE</th>\n      <th>TOTAL_PRECIPITATION_WHITEHORSE</th>\n      <th>MEAN_TEMPERATURE_WINNIPEG</th>\n      <th>TOTAL_PRECIPITATION_WINNIPEG</th>\n    </tr>\n  </thead>\n  <tbody>\n    <tr>\n      <th>0</th>\n      <td>01-Jan-1940 00:00:00</td>\n      <td>-11.4</td>\n      <td>0.5</td>\n      <td>NaN</td>\n      <td>NaN</td>\n      <td>NaN</td>\n      <td>NaN</td>\n      <td>-8.9</td>\n      <td>0.0</td>\n      <td>NaN</td>\n      <td>...</td>\n      <td>NaN</td>\n      <td>NaN</td>\n      <td>-8.9</td>\n      <td>0.0</td>\n      <td>8.9</td>\n      <td>5.8</td>\n      <td>NaN</td>\n      <td>NaN</td>\n      <td>-20.9</td>\n      <td>0.0</td>\n    </tr>\n    <tr>\n      <th>1</th>\n      <td>02-Jan-1940 00:00:00</td>\n      <td>-12.0</td>\n      <td>0.5</td>\n      <td>NaN</td>\n      <td>NaN</td>\n      <td>NaN</td>\n      <td>NaN</td>\n      <td>-14.5</td>\n      <td>0.0</td>\n      <td>NaN</td>\n      <td>...</td>\n      <td>NaN</td>\n      <td>NaN</td>\n      <td>-13.1</td>\n      <td>0.3</td>\n      <td>9.7</td>\n      <td>7.1</td>\n      <td>NaN</td>\n      <td>NaN</td>\n      <td>-18.4</td>\n      <td>0.0</td>\n    </tr>\n    <tr>\n      <th>2</th>\n      <td>03-Jan-1940 00:00:00</td>\n      <td>-12.0</td>\n      <td>1.0</td>\n      <td>NaN</td>\n      <td>NaN</td>\n      <td>NaN</td>\n      <td>NaN</td>\n      <td>-11.1</td>\n      <td>0.0</td>\n      <td>NaN</td>\n      <td>...</td>\n      <td>NaN</td>\n      <td>NaN</td>\n      <td>-6.1</td>\n      <td>0.0</td>\n      <td>7.8</td>\n      <td>1.0</td>\n      <td>NaN</td>\n      <td>NaN</td>\n      <td>-22.0</td>\n      <td>0.0</td>\n    </tr>\n    <tr>\n      <th>3</th>\n      <td>04-Jan-1940 00:00:00</td>\n      <td>-11.4</td>\n      <td>0.8</td>\n      <td>NaN</td>\n      <td>NaN</td>\n      <td>NaN</td>\n      <td>NaN</td>\n      <td>-11.1</td>\n      <td>0.3</td>\n      <td>NaN</td>\n      <td>...</td>\n      <td>NaN</td>\n      <td>NaN</td>\n      <td>-6.4</td>\n      <td>0.5</td>\n      <td>8.1</td>\n      <td>0.5</td>\n      <td>NaN</td>\n      <td>NaN</td>\n      <td>-20.3</td>\n      <td>0.0</td>\n    </tr>\n    <tr>\n      <th>4</th>\n      <td>05-Jan-1940 00:00:00</td>\n      <td>-13.1</td>\n      <td>0.5</td>\n      <td>NaN</td>\n      <td>NaN</td>\n      <td>NaN</td>\n      <td>NaN</td>\n      <td>-8.1</td>\n      <td>0.0</td>\n      <td>NaN</td>\n      <td>...</td>\n      <td>NaN</td>\n      <td>NaN</td>\n      <td>-7.2</td>\n      <td>16.5</td>\n      <td>7.0</td>\n      <td>0.8</td>\n      <td>NaN</td>\n      <td>NaN</td>\n      <td>-18.7</td>\n      <td>0.0</td>\n    </tr>\n  </tbody>\n</table>\n<p>5 rows \u00d7 27 columns</p>\n</div>",
                        "text/plain": "             LOCAL_DATE  MEAN_TEMPERATURE_CALGARY  \\\n0  01-Jan-1940 00:00:00                     -11.4   \n1  02-Jan-1940 00:00:00                     -12.0   \n2  03-Jan-1940 00:00:00                     -12.0   \n3  04-Jan-1940 00:00:00                     -11.4   \n4  05-Jan-1940 00:00:00                     -13.1   \n\n   TOTAL_PRECIPITATION_CALGARY  MEAN_TEMPERATURE_EDMONTON  \\\n0                          0.5                        NaN   \n1                          0.5                        NaN   \n2                          1.0                        NaN   \n3                          0.8                        NaN   \n4                          0.5                        NaN   \n\n   TOTAL_PRECIPITATION_EDMONTON  MEAN_TEMPERATURE_HALIFAX  \\\n0                           NaN                       NaN   \n1                           NaN                       NaN   \n2                           NaN                       NaN   \n3                           NaN                       NaN   \n4                           NaN                       NaN   \n\n   TOTAL_PRECIPITATION_HALIFAX  MEAN_TEMPERATURE_MONCTON  \\\n0                          NaN                      -8.9   \n1                          NaN                     -14.5   \n2                          NaN                     -11.1   \n3                          NaN                     -11.1   \n4                          NaN                      -8.1   \n\n   TOTAL_PRECIPITATION_MONCTON  MEAN_TEMPERATURE_MONTREAL  ...  \\\n0                          0.0                        NaN  ...   \n1                          0.0                        NaN  ...   \n2                          0.0                        NaN  ...   \n3                          0.3                        NaN  ...   \n4                          0.0                        NaN  ...   \n\n   MEAN_TEMPERATURE_STJOHNS  TOTAL_PRECIPITATION_STJOHNS  \\\n0                       NaN                          NaN   \n1                       NaN                          NaN   \n2                       NaN                          NaN   \n3                       NaN                          NaN   \n4                       NaN                          NaN   \n\n   MEAN_TEMPERATURE_TORONTO  TOTAL_PRECIPITATION_TORONTO  \\\n0                      -8.9                          0.0   \n1                     -13.1                          0.3   \n2                      -6.1                          0.0   \n3                      -6.4                          0.5   \n4                      -7.2                         16.5   \n\n   MEAN_TEMPERATURE_VANCOUVER  TOTAL_PRECIPITATION_VANCOUVER  \\\n0                         8.9                            5.8   \n1                         9.7                            7.1   \n2                         7.8                            1.0   \n3                         8.1                            0.5   \n4                         7.0                            0.8   \n\n   MEAN_TEMPERATURE_WHITEHORSE  TOTAL_PRECIPITATION_WHITEHORSE  \\\n0                          NaN                             NaN   \n1                          NaN                             NaN   \n2                          NaN                             NaN   \n3                          NaN                             NaN   \n4                          NaN                             NaN   \n\n   MEAN_TEMPERATURE_WINNIPEG  TOTAL_PRECIPITATION_WINNIPEG  \n0                      -20.9                           0.0  \n1                      -18.4                           0.0  \n2                      -22.0                           0.0  \n3                      -20.3                           0.0  \n4                      -18.7                           0.0  \n\n[5 rows x 27 columns]"
                    },
                    "execution_count": 1,
                    "metadata": {},
                    "output_type": "execute_result"
                }
            ],
            "source": "# The code was removed by Watson Studio for sharing."
        }
    ],
    "metadata": {
        "kernelspec": {
            "display_name": "Python 3.6",
            "language": "python",
            "name": "python3"
        },
        "language_info": {
            "codemirror_mode": {
                "name": "ipython",
                "version": 3
            },
            "file_extension": ".py",
            "mimetype": "text/x-python",
            "name": "python",
            "nbconvert_exporter": "python",
            "pygments_lexer": "ipython3",
            "version": "3.6.9"
        }
    },
    "nbformat": 4,
    "nbformat_minor": 1
}